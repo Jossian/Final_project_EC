{
 "cells": [
  {
   "cell_type": "code",
   "execution_count": 1,
   "metadata": {},
   "outputs": [],
   "source": [
    "import torch\n",
    "import matplotlib.pyplot as plt\n",
    "import numpy as np\n",
    "import pandas as pd\n",
    "import keras\n",
    "import tensorflow as tf\n",
    "from numpy import array, save, asarray\n",
    "from keras import layers\n",
    "from keras.optimizers import Adam\n",
    "from joblib import dump,load\n",
    "import random\n",
    "from sklearn import metrics, neighbors, tree, svm\n",
    "from sklearn.model_selection import RandomizedSearchCV, GridSearchCV\n",
    "from sklearn.neighbors import KNeighborsClassifier\n",
    "from sklearn.neural_network import MLPClassifier\n",
    "from sklearn.tree import DecisionTreeClassifier, plot_tree, export_text\n",
    "from sklearn.model_selection import KFold, cross_val_score, train_test_split\n",
    "from sklearn.ensemble import RandomForestClassifier\n",
    "from sklearn.cluster import KMeans, AgglomerativeClustering\n",
    "from sklearn.metrics import classification_report, confusion_matrix, ConfusionMatrixDisplay, silhouette_score\n"
   ]
  },
  {
   "cell_type": "code",
   "execution_count": 2,
   "metadata": {},
   "outputs": [
    {
     "name": "stderr",
     "output_type": "stream",
     "text": [
      "C:\\Users\\josia\\AppData\\Local\\Temp\\ipykernel_21384\\4252015471.py:3: DtypeWarning: Columns (0,1,2,3,4,5,6,7,8,9,10,11,12,13,14) have mixed types. Specify dtype option on import or set low_memory=False.\n",
      "  data1=pd.read_csv(\"IoTDDoSP4FIN.csv\",names=columns)\n",
      "C:\\Users\\josia\\AppData\\Local\\Temp\\ipykernel_21384\\4252015471.py:23: FutureWarning: Setting an item of incompatible dtype is deprecated and will raise in a future error of pandas. Value 'Benign' has dtype incompatible with float64, please explicitly cast to a compatible dtype first.\n",
      "  data2[\"Label\"].fillna(\"Benign\",inplace=True)\n",
      "C:\\Users\\josia\\AppData\\Local\\Temp\\ipykernel_21384\\4252015471.py:34: FutureWarning: Setting an item of incompatible dtype is deprecated and will raise in a future error of pandas. Value 'SlowLoris' has dtype incompatible with float64, please explicitly cast to a compatible dtype first.\n",
      "  data3[\"Label\"].fillna(\"SlowLoris\",inplace=True)\n",
      "C:\\Users\\josia\\AppData\\Local\\Temp\\ipykernel_21384\\4252015471.py:56: FutureWarning: Setting an item of incompatible dtype is deprecated and will raise in a future error of pandas. Value 'Benign' has dtype incompatible with float64, please explicitly cast to a compatible dtype first.\n",
      "  dataVal1[\"Label\"].fillna(\"Benign\",inplace=True)\n",
      "C:\\Users\\josia\\AppData\\Local\\Temp\\ipykernel_21384\\4252015471.py:57: FutureWarning: Setting an item of incompatible dtype is deprecated and will raise in a future error of pandas. Value 'Benign' has dtype incompatible with float64, please explicitly cast to a compatible dtype first.\n",
      "  dataVal2[\"Label\"].fillna(\"Benign\",inplace=True)\n",
      "C:\\Users\\josia\\AppData\\Local\\Temp\\ipykernel_21384\\4252015471.py:58: FutureWarning: Setting an item of incompatible dtype is deprecated and will raise in a future error of pandas. Value 'SlowLoris' has dtype incompatible with float64, please explicitly cast to a compatible dtype first.\n",
      "  dataVal3[\"Label\"].fillna(\"SlowLoris\",inplace=True)\n",
      "C:\\Users\\josia\\AppData\\Local\\Temp\\ipykernel_21384\\4252015471.py:59: FutureWarning: Setting an item of incompatible dtype is deprecated and will raise in a future error of pandas. Value 'Benign' has dtype incompatible with float64, please explicitly cast to a compatible dtype first.\n",
      "  dataVal4[\"Label\"].fillna(\"Benign\",inplace=True)\n"
     ]
    },
    {
     "data": {
      "text/plain": [
       "<bound method NDFrame.describe of          Duration   IAT Flow  IAT Packet Min  IAT Packet Max  Packets  \\\n",
       "0           64697      64685               0           64685        7   \n",
       "1         1292261     125514               1         1041249        5   \n",
       "2       120202105  119861068               0       119861068       14   \n",
       "3          279539       5954             703          147424        5   \n",
       "4         1291121     126052               0         1039165        5   \n",
       "...           ...        ...             ...             ...      ...   \n",
       "133040      34463      10263           10263           24199        2   \n",
       "133041     280611     126548               0          126548        5   \n",
       "133042     280337       6021             891          147551        5   \n",
       "133043    1289015     125858               0         1038608        5   \n",
       "133044     340347       5770             753          166546        5   \n",
       "\n",
       "        Length Min  Length Max  URG  ACK  PSH  RST  SYN      Label  \n",
       "0               40         185    0    4    2    3    1  SlowLoris  \n",
       "1               52         427    0    5    1    0    1     Benign  \n",
       "2               52         298    0   13    6    0    1     Benign  \n",
       "3               52         303    0    4    1    0    1     Benign  \n",
       "4               52         427    0    5    1    0    1     Benign  \n",
       "...            ...         ...  ...  ...  ...  ...  ...        ...  \n",
       "133040          73         185    0    2    2    0    0  SlowLoris  \n",
       "133041          52          60    0    5    1    0    1     Benign  \n",
       "133042          52         303    0    4    1    0    1     Benign  \n",
       "133043          52         427    0    5    1    0    1     Benign  \n",
       "133044          52         303    0    4    1    0    1     Benign  \n",
       "\n",
       "[133045 rows x 13 columns]>"
      ]
     },
     "execution_count": 2,
     "metadata": {},
     "output_type": "execute_result"
    }
   ],
   "source": [
    "columns= [\"Duration\",\"IAT Flow\",\"IAT Packet Min\",\"IAT Packet Max\",\"Packets\",\"Length Min\",\"Length Max\",\"Length Mean\"\n",
    "        ,\"URG\",\"ACK\",\"PSH\",\"RST\",\"SYN\",\"FIN\", \"IAT Packet Mean\", \"Label\"]\n",
    "data1=pd.read_csv(\"IoTDDoSP4FIN.csv\",names=columns)\n",
    "data1 = data1.iloc[1:,:]\n",
    "\n",
    "for column in columns:\n",
    "    if column == \"Label\":\n",
    "        continue\n",
    "    else:\n",
    "        data1[column] = pd.to_numeric(data1[column])\n",
    "\n",
    "data1 = data1.drop([\"FIN\",\"IAT Packet Mean\",\"Length Mean\"], axis=1)\n",
    "data1 = data1[data1[\"Packets\"] > 1]\n",
    "\n",
    "columns= [\"Duration\",\"IAT Flow\",\"IAT Packet Min\",\n",
    "          \"IAT Packet Max\",\"Packets\",\"Length Min\",\n",
    "          \"Length Max\" ,\"URG\",\"ACK\",\"PSH\",\"RST\",\n",
    "          \"SYN\", \"Label\"]\n",
    "\n",
    "\n",
    "data2 = pd.read_csv(\"Benign3P4.csv\",names=columns)\n",
    "data2 = data2.iloc[1:,:]\n",
    "data2[\"Label\"].fillna(\"Benign\",inplace=True)\n",
    "data2 = data2[data2[\"Packets\"] > 1]\n",
    "\n",
    "for column in columns:\n",
    "    if column == \"Label\":\n",
    "        continue\n",
    "    else:\n",
    "        data2[column] = pd.to_numeric(data2[column])\n",
    "\n",
    "data3 = pd.read_csv(\"SlowlorisP4.csv\",names=columns)\n",
    "data3 = data3.iloc[1:,:]\n",
    "data3[\"Label\"].fillna(\"SlowLoris\",inplace=True)\n",
    "data3 = data3[data3[\"Packets\"] > 1]\n",
    "\n",
    "for column in columns:\n",
    "    if column == \"Label\":\n",
    "        continue\n",
    "    else:\n",
    "        data3[column] = pd.to_numeric(data3[column])\n",
    "\n",
    "\n",
    "\n",
    "\n",
    "dataVal1=pd.read_csv(\"HoneypotP4.csv\",names=columns)\n",
    "dataVal2=pd.read_csv(\"Benign2P4.csv\",names=columns)\n",
    "dataVal3=pd.read_csv(\"Slowloris2P4.csv\",names=columns)\n",
    "dataVal4=pd.read_csv(\"Benign1P4.csv\",names=columns)\n",
    "\n",
    "dataVal1 = dataVal1.iloc[1:,:]\n",
    "dataVal2 = dataVal2.iloc[1:,:]\n",
    "dataVal3 = dataVal3.iloc[1:,:]\n",
    "dataVal4 = dataVal4.iloc[1:,:]\n",
    "\n",
    "dataVal1[\"Label\"].fillna(\"Benign\",inplace=True)\n",
    "dataVal2[\"Label\"].fillna(\"Benign\",inplace=True)\n",
    "dataVal3[\"Label\"].fillna(\"SlowLoris\",inplace=True)\n",
    "dataVal4[\"Label\"].fillna(\"Benign\",inplace=True)\n",
    "\n",
    "\n",
    "dataVal1 = dataVal1[dataVal1[\"Packets\"] > 1]\n",
    "dataVal2 = dataVal2[dataVal2[\"Packets\"] > 1]\n",
    "dataVal3 = dataVal3[dataVal3[\"Packets\"] > 1]\n",
    "dataVal4 = dataVal4[dataVal4[\"Packets\"] > 1]\n",
    "\n",
    "\n",
    "for column in columns:\n",
    "    if column == \"Label\":\n",
    "        continue\n",
    "    else:\n",
    "        dataVal1[column] = pd.to_numeric(dataVal1[column])\n",
    "        dataVal2[column] = pd.to_numeric(dataVal2[column])\n",
    "        dataVal3[column] = pd.to_numeric(dataVal3[column])\n",
    "        dataVal4[column] = pd.to_numeric(dataVal4[column])\n",
    "'''\n",
    "dataVal = dataVal[dataVal[\"Duration\"] < 30000000000]\n",
    "dataVal = dataVal[dataVal[\"IAT Flow\"] < 30000000000]\n",
    "dataVal = dataVal[dataVal[\"IAT Packet Min\"] < 80000000]\n",
    "dataVal = dataVal[dataVal[\"Packets\"] < 10000]\n",
    "dataVal = dataVal[dataVal[\"Length Min\"] < 150]'''\n",
    "\n",
    "data = pd.concat([data1, data2, data3], ignore_index=True)\n",
    "dataVal = pd.concat([dataVal1, dataVal2, dataVal3, dataVal4], ignore_index=True)\n",
    "\n",
    "#data = data1\n",
    "\n",
    "data = data.sample(frac=1).reset_index(drop=True)\n",
    "data.describe"
   ]
  },
  {
   "cell_type": "code",
   "execution_count": 3,
   "metadata": {},
   "outputs": [],
   "source": [
    "y_train = pd.DataFrame(data['Label'])\n",
    "X_train = data.iloc[:,:-1]\n",
    "\n",
    "y_test = pd.DataFrame(dataVal['Label'])\n",
    "X_test = dataVal.iloc[:,:-1]\n",
    "\n",
    "columns= [\"Duration\",\"IAT Flow\",\"IAT Packet Min\",\"IAT Packet Max\",\"Packets\",\"Length Min\",\"Length Max\"\n",
    "        ,\"URG\",\"ACK\",\"PSH\",\"RST\",\"SYN\", \"Label\"]\n",
    "classes = [\"Slowloris\",\"Benign\"]\n",
    "\n",
    "accuracies = []"
   ]
  },
  {
   "cell_type": "code",
   "execution_count": 4,
   "metadata": {},
   "outputs": [],
   "source": [
    "def initialization(mu, lb, ub):\n",
    "    \"\"\"\n",
    "    Initialize the population\n",
    "\n",
    "    :param int mu: number of individuals in the population\n",
    "    :param list lb: lower bounds for each variable\n",
    "    :param list ub: upper bounds for each variable\n",
    "    :return: A list of individuals in the population\n",
    "    :rtype: list\n",
    "    \"\"\"\n",
    "    # Create the population array\n",
    "    p = []\n",
    "\n",
    "    for _ in range(mu):\n",
    "        # Generate a random individual within the specified bounds\n",
    "        y = np.random.uniform(lb, ub)  # Generate random numbers from uniform distribution\n",
    "        p.append(y)\n",
    "\n",
    "    return p"
   ]
  },
  {
   "cell_type": "code",
   "execution_count": 5,
   "metadata": {},
   "outputs": [],
   "source": [
    "def adjust_values(numbers, lower_bound, upper_bound):\n",
    "    adjusted_numbers = []\n",
    "\n",
    "    for i in range(len(numbers)):\n",
    "        if numbers[i] < lower_bound[i]:\n",
    "            adjusted_numbers.append(lower_bound[i])\n",
    "        elif numbers[i] > upper_bound[i]:\n",
    "            adjusted_numbers.append(upper_bound[i])\n",
    "        else:\n",
    "            adjusted_numbers.append(numbers[i])\n",
    "    return adjusted_numbers\n"
   ]
  },
  {
   "cell_type": "code",
   "execution_count": 7,
   "metadata": {},
   "outputs": [],
   "source": [
    "def simulated_bynary_crossover(p1,p2,lb,ub):\n",
    "  \"\"\"\n",
    "  Performs Simulated Binary Crossover (SBX).\n",
    "\n",
    "  :param list p1: chromosome (individual)\n",
    "  :param list p2: chromosome  (individual)\n",
    "  :return: Next generation\n",
    "  \"\"\"\n",
    "  nc=20\n",
    "  u=random.uniform(0,1)\n",
    "\n",
    "  if (u<=0.5):\n",
    "      beta=(2*u)**(1/(nc+1))\n",
    "  else:\n",
    "      beta=(1/(2*(1-u)))**(1/(nc+1))\n",
    "  #print(\"beta value:\" , beta)\n",
    "  h1=0.5*(np.array(p1)+np.array(p2)-beta*np.abs(np.array(p2)-np.array(p1)))\n",
    "  h2=0.5*(np.array(p1)+np.array(p2)+beta*np.abs(np.array(p2)-np.array(p1)))\n",
    "  h1_=adjust_values(h1,lb,ub)\n",
    "  h2_=adjust_values(h2,lb,ub)\n",
    "  return h1_,h2_"
   ]
  },
  {
   "cell_type": "code",
   "execution_count": 8,
   "metadata": {},
   "outputs": [],
   "source": [
    "def polynomial_mutation(y_l,y_u,p):\n",
    "    \"\"\"\n",
    "    Performs \tParameter-based Mutation (PM)\n",
    "\n",
    "    :param float y_l: lower bound of a gene\n",
    "    :param float y_u: upper bound of a gene\n",
    "    :param list p: individual\n",
    "    :param int t: iteration\n",
    "    \"\"\"\n",
    "    y=random.choice(p)\n",
    "    idx=p.index(y)\n",
    "    u=random.uniform(0,1)\n",
    "    n_m=2\n",
    "\n",
    "    if (u<=0.5):\n",
    "        epsilon=(2*u)**(1/(n_m+1))-1\n",
    "    else:\n",
    "        epsilon=1-(2*(1-u))**(1/(n_m+1))\n",
    "\n",
    "    delta_max=y_u[idx]-y_l[idx]\n",
    "\n",
    "    y_prime= y+delta_max*epsilon\n",
    "\n",
    "    if y_prime < y_l[idx]:\n",
    "        y_prime=y_l[idx]\n",
    "    elif y_prime > y_u[idx]:\n",
    "        y_prime=y_u[idx]\n",
    "\n",
    "    p[p.index(y)]=y_prime\n",
    "    return p"
   ]
  },
  {
   "cell_type": "code",
   "execution_count": 9,
   "metadata": {},
   "outputs": [],
   "source": [
    "def best_mu_individials(population, fitness_func, type_opt, mu):\n",
    "    \"\"\"\n",
    "    Find the best mu individuals according to the fitness function.\n",
    "\n",
    "    :param list population: Population of individuals\n",
    "    :param function fitness_func: Fitness function\n",
    "    :param str type_opt: Optimization type (\"min\" or \"max\")\n",
    "    :param int mu: Number of best individuals to select\n",
    "    :return: List of best individuals, best fitness value, and the best individual\n",
    "    \"\"\"\n",
    "    #print(\"parents len before: \", len(population))\n",
    "\n",
    "    # Evaluate the fitness of each individual\n",
    "    fit = [fitness_func(ind) for ind in population]\n",
    "\n",
    "    # Create a list of tuples (fitness, individual)\n",
    "    new_pop = list(zip(fit, population))\n",
    "\n",
    "    # Sort the population based on fitness\n",
    "    if type_opt == \"min\":\n",
    "        # Sort in ascending order for minimization\n",
    "        sorted_new_pop = sorted(new_pop, key=lambda x: x[0])\n",
    "    elif type_opt == \"max\":\n",
    "        # Sort in descending order for maximization\n",
    "        sorted_new_pop = sorted(new_pop, key=lambda x: x[0], reverse=True)\n",
    "    else:\n",
    "        raise ValueError(\"type_opt must be either 'min' or 'max'\")\n",
    "\n",
    "    # Select the top mu individuals\n",
    "    lst = [ind for _, ind in sorted_new_pop[:mu]]\n",
    "\n",
    "    # Get the best fitness value and corresponding individual\n",
    "    best_eval, best = sorted_new_pop[0]\n",
    "\n",
    "    #print(\"parents len after: \", len(lst))\n",
    "    return lst, best_eval, best\n"
   ]
  },
  {
   "cell_type": "code",
   "execution_count": null,
   "metadata": {},
   "outputs": [],
   "source": [
    "def genetic_algorithm_real_encoding(f, mu, lb, ub, type_opt):\n",
    "    \"\"\"\n",
    "    Performs a genetic algorithm with real ecoding\n",
    "\n",
    "    :param sym function f:  fitness function\n",
    "    :param int mu: number of individuals in the population\n",
    "    :param float lb= lower bound\n",
    "    :param float ub= upper bound\n",
    "\n",
    "    \"\"\"\n",
    "    parents=initialization(mu,lb,ub)\n",
    "    gen_num=1\n",
    "    generation_best={}\n",
    "    while(gen_num<=20):\n",
    "\n",
    "\n",
    "        parents_next=parents\n",
    "\n",
    "        parents,_,best_ind=best_mu_individials(parents_next,f,type_opt,mu)\n",
    "\n",
    "        generation_best[gen_num] = best_ind\n",
    "\n",
    "        for i in range(1,int(mu/2)+1):\n",
    "            parent_1=random.choice(parents)\n",
    "            parent_2=random.choice(parents)\n",
    "            pc=0.9\n",
    "            p=random.uniform(0,1)\n",
    "            if (p<=pc):\n",
    "                child_1,child_2=simulated_bynary_crossover(parent_1,parent_2,lb,ub)\n",
    "            else:\n",
    "                child_1=parent_1\n",
    "                child_2=parent_2\n",
    "            pm=0.9\n",
    "            p=random.uniform(0,1)\n",
    "            if (p<=pm):\n",
    "                m1=polynomial_mutation(lb,ub,list(child_1))\n",
    "                m2=polynomial_mutation(lb,ub,list(child_2))\n",
    "            else:\n",
    "                m1=list(child_1)\n",
    "                m2=list(child_2)\n",
    "            parents.append(m1)\n",
    "            parents.append(m2)\n",
    "        gen_num+=1\n",
    "    return generation_best"
   ]
  },
  {
   "cell_type": "code",
   "execution_count": 8,
   "metadata": {},
   "outputs": [],
   "source": [
    "def differential_evolution_binomial_crossover(n_x, p_cr):\n",
    "    j_star = random.randint(1, n_x)\n",
    "    J = {j_star}\n",
    "\n",
    "    for j in range(1, n_x + 1):\n",
    "        if random.uniform(0, 1) < p_cr and j != j_star:\n",
    "            J.add(j)\n",
    "\n",
    "    return J"
   ]
  },
  {
   "cell_type": "code",
   "execution_count": 6,
   "metadata": {},
   "outputs": [],
   "source": [
    "def differential_evolution_mutation(population, mu,F,lb,ub):\n",
    "    random_numbers = random.sample(range(1, mu + 1 ), 2)\n",
    "    i2, i3 = random_numbers[0], random_numbers[1]\n",
    "    ui= np.array(population[0])+F*(np.array(population[i2-1])-np.array(population[i3-1]))\n",
    "    ui_adj=adjust_values(ui,lb,ub)\n",
    "    return ui_adj\n",
    "    "
   ]
  },
  {
   "cell_type": "code",
   "execution_count": 18,
   "metadata": {},
   "outputs": [],
   "source": [
    "def best_ind_fitness(population, fitness_func, type_opt):\n",
    "    \"\"\"\n",
    "    Find the best individual according to the fitness function    \n",
    "\n",
    "    :param list population: population\n",
    "    :param function fitness_func: fitness function\n",
    "    :param str type_opt: optimization type (\"min\" or \"max\")\n",
    "    :return: new generation and the best individual\n",
    "    \"\"\"\n",
    "    fit_dict = {}\n",
    "    \n",
    "    for ind in population:\n",
    "        # Convert individual to a tuple to use as a dictionary key\n",
    "        ind_tuple = tuple(ind)\n",
    "        fit = fitness_func(ind)\n",
    "        fit_dict[ind_tuple] = fit\n",
    "        \n",
    "    # Sort the dictionary by fitness values\n",
    "    sorted_fitness = sorted(fit_dict.items(), key=lambda item: item[1])\n",
    "\n",
    "    if type_opt == \"min\":\n",
    "        # For minimization, select the smallest values\n",
    "        new_gen = [list(key) for key, _ in sorted_fitness[:100]]\n",
    "        best = list(sorted_fitness[0][0])\n",
    "    else:\n",
    "        # For maximization, select the largest values\n",
    "        new_gen = [list(key) for key, _ in sorted_fitness[-100:]]\n",
    "        best = list(sorted_fitness[-1][0])\n",
    "        \n",
    "    return new_gen, best\n"
   ]
  },
  {
   "cell_type": "code",
   "execution_count": 42,
   "metadata": {},
   "outputs": [],
   "source": [
    "def differential_evolution_real_encoding(f, mu, lb, ub, type_opt):\n",
    "    \"\"\"\n",
    "    Performs a differential evolution algorithm with real ecoding\n",
    "\n",
    "    :param sym function f:  fitness function\n",
    "    :param int mu: number of individuals in the population\n",
    "    :param float lb= lower bound\n",
    "    :param float ub= upper bound\n",
    "\n",
    "    \"\"\"\n",
    "    new_gen=initialization(mu,lb,ub)\n",
    "    gen_num=1\n",
    "    dictionary = {}\n",
    "    generation_best={}\n",
    "    #Stopping criteria: distancia euclidiana promedio entre los pares de valores\n",
    "    while(gen_num<=100):\n",
    "        #print(new_gen)\n",
    "        pc=0.5\n",
    "        parents=new_gen\n",
    "        new_gen,best_ind=best_ind_fitness(parents,f,type_opt)\n",
    "        generation_best[gen_num] = best_ind\n",
    "\n",
    "        for i in range(0,mu):\n",
    "            xi=parents[i] #ith individual\n",
    "            #mutation\n",
    "            u1=differential_evolution_mutation(new_gen,mu,0.7,lb,ub)\n",
    "\n",
    "\n",
    "            #crossover\n",
    "            J=differential_evolution_binomial_crossover(len(u1),pc)#2 is the number of decision variables\n",
    "            x_prime=[0]*len(xi)\n",
    "            for j in range(1,len(xi)):\n",
    "                if (j in J):\n",
    "                    x_prime[j-1]=u1[j-1]\n",
    "                else:\n",
    "                    x_prime[j-1]=xi[j-1]\n",
    "            x_prime_adj=adjust_values(x_prime,lb,ub)\n",
    "            new_gen.append(x_prime_adj)\n",
    "\n",
    "        #print(average_distance(new_gen))\n",
    "        gen_num+=1\n",
    "    #convergence_graph(best_fitnes_value_conv,gen_num-1)\n",
    "    return generation_best"
   ]
  },
  {
   "cell_type": "code",
   "execution_count": 11,
   "metadata": {},
   "outputs": [],
   "source": [
    "def decision_tree(params):\n",
    "    max_depth,min_samples_split,min_samples_leaf,min_weight_fraction_leaf,max_features,random_state,max_leaf_nodes,min_impurity_decrease=params\n",
    "    model = DecisionTreeClassifier(criterion='log_loss',max_depth=int(max_depth),min_samples_leaf=min_samples_leaf,min_samples_split=min_samples_split,min_weight_fraction_leaf=min_weight_fraction_leaf,max_features=max_features,random_state=int(random_state),max_leaf_nodes=int(max_leaf_nodes),min_impurity_decrease=min_impurity_decrease)\n",
    "    model.fit(X_train, y_train)\n",
    "    y_pred = model.predict(X_test)\n",
    "    return metrics.accuracy_score(y_test, y_pred)\n"
   ]
  },
  {
   "cell_type": "code",
   "execution_count": 12,
   "metadata": {},
   "outputs": [],
   "source": [
    "def convergence_graph(list_best_values,name):\n",
    "\n",
    "  # Convergence plot\n",
    "  plt.plot(np.arange(1, len(list_best_values) + 1, 1), list_best_values)\n",
    "  plt.scatter(np.arange(1, len(list_best_values) + 1, 1), list_best_values)\n",
    "  plt.title(f\"{name} convergence plot\")\n",
    "  plt.xlabel(\"Generation\")\n",
    "  plt.ylabel(\"Objective value\")\n",
    "  plt.xscale('log')\n",
    "  plt.subplots_adjust(wspace=0.4)\n",
    "  plt.show()"
   ]
  },
  {
   "cell_type": "code",
   "execution_count": 15,
   "metadata": {},
   "outputs": [
    {
     "ename": "NameError",
     "evalue": "name 'genetic_algorithm_real_encoding' is not defined",
     "output_type": "error",
     "traceback": [
      "\u001b[1;31m---------------------------------------------------------------------------\u001b[0m",
      "\u001b[1;31mNameError\u001b[0m                                 Traceback (most recent call last)",
      "Cell \u001b[1;32mIn[15], line 3\u001b[0m\n\u001b[0;32m      1\u001b[0m lb\u001b[38;5;241m=\u001b[39m[\u001b[38;5;241m1\u001b[39m,\u001b[38;5;241m0.1\u001b[39m,\u001b[38;5;241m0.1\u001b[39m,\u001b[38;5;241m0\u001b[39m,\u001b[38;5;241m0.1\u001b[39m,\u001b[38;5;241m1\u001b[39m,\u001b[38;5;241m2\u001b[39m,\u001b[38;5;241m0\u001b[39m]\n\u001b[0;32m      2\u001b[0m ub\u001b[38;5;241m=\u001b[39m[\u001b[38;5;241m10\u001b[39m,\u001b[38;5;241m0.9\u001b[39m,\u001b[38;5;241m1\u001b[39m,\u001b[38;5;241m0.49\u001b[39m,\u001b[38;5;241m1\u001b[39m,\u001b[38;5;241m50\u001b[39m,\u001b[38;5;241m50\u001b[39m,\u001b[38;5;241m10\u001b[39m]\n\u001b[1;32m----> 3\u001b[0m dictionary\u001b[38;5;241m=\u001b[39m\u001b[43mgenetic_algorithm_real_encoding\u001b[49m(decision_tree,\u001b[38;5;241m100\u001b[39m,lb,ub,\u001b[38;5;124m\"\u001b[39m\u001b[38;5;124mmax\u001b[39m\u001b[38;5;124m\"\u001b[39m)\n\u001b[0;32m      4\u001b[0m best_var\u001b[38;5;241m=\u001b[39mdictionary\u001b[38;5;241m.\u001b[39mpopitem()\n\u001b[0;32m      5\u001b[0m \u001b[38;5;66;03m#acc=modeling([15,0.5,0.5,0.25,0.5,42,5,2.5])\u001b[39;00m\n\u001b[0;32m      6\u001b[0m \u001b[38;5;66;03m#print(acc)\u001b[39;00m\n",
      "\u001b[1;31mNameError\u001b[0m: name 'genetic_algorithm_real_encoding' is not defined"
     ]
    }
   ],
   "source": [
    "lb=[1,0.1,0.1,0,0.1,1,2,0]\n",
    "ub=[10,0.9,1,0.49,1,50,50,10]\n",
    "dictionary=genetic_algorithm_real_encoding(decision_tree,100,lb,ub,\"max\")\n",
    "best_var=dictionary.popitem()\n",
    "#acc=modeling([15,0.5,0.5,0.25,0.5,42,5,2.5])\n",
    "#print(acc)\n",
    "evals=[]\n",
    "\n",
    "for val in list(dictionary.values()):\n",
    "  evals.append(decision_tree(val))\n",
    "\n",
    "convergence_graph(evals,\"Decision tree\")"
   ]
  },
  {
   "cell_type": "code",
   "execution_count": 34,
   "metadata": {},
   "outputs": [
    {
     "data": {
      "image/png": "[encoded data removed]",
      "text/plain": [
       "<Figure size 640x480 with 1 Axes>"
      ]
     },
     "metadata": {},
     "output_type": "display_data"
    }
   ],
   "source": [
    "lb=[1,0.1,0.1,0,0.1,1,2,0]\n",
    "ub=[10,0.9,0.9,0.49,1,50,50,10]\n",
    "dictionary=differential_evolution_real_encoding(decision_tree,100,lb,ub,\"max\")\n",
    "best_var=dictionary.popitem()\n",
    "#acc=modeling([15,0.5,0.5,0.25,0.5,42,5,2.5])\n",
    "#print(acc)\n",
    "evals=[]\n",
    "\n",
    "for val in list(dictionary.values()):\n",
    "  evals.append(decision_tree(val))\n",
    "\n",
    "convergence_graph(evals,\"Decision tree\")"
   ]
  },
  {
   "cell_type": "code",
   "execution_count": 35,
   "metadata": {},
   "outputs": [
    {
     "name": "stdout",
     "output_type": "stream",
     "text": [
      "0.9819996480378108\n"
     ]
    }
   ],
   "source": [
    "print(decision_tree(best_var[1]))"
   ]
  },
  {
   "cell_type": "code",
   "execution_count": 37,
   "metadata": {},
   "outputs": [
    {
     "data": {
      "image/png": "[encoded data removed]",
      "text/plain": [
       "<Figure size 640x480 with 1 Axes>"
      ]
     },
     "metadata": {},
     "output_type": "display_data"
    },
    {
     "name": "stdout",
     "output_type": "stream",
     "text": [
      "0.9819996480378108\n"
     ]
    }
   ],
   "source": [
    "lb=[1,0.1,0.1,0,0.1,1,2,0]\n",
    "ub=[10,0.9,0.9,0.49,1,50,50,10]\n",
    "dictionary=differential_evolution_real_encoding(decision_tree,100,lb,ub,\"max\")\n",
    "best_var=dictionary.popitem()\n",
    "#acc=modeling([15,0.5,0.5,0.25,0.5,42,5,2.5])\n",
    "#print(acc)\n",
    "evals=[]\n",
    "\n",
    "for val in list(dictionary.values()):\n",
    "  evals.append(decision_tree(val))\n",
    "\n",
    "convergence_graph(evals,\"Decision tree\")\n",
    "print(decision_tree(best_var[1]))"
   ]
  },
  {
   "cell_type": "code",
   "execution_count": 40,
   "metadata": {},
   "outputs": [
    {
     "data": {
      "image/png": "[encoded data removed]",
      "text/plain": [
       "<Figure size 640x480 with 1 Axes>"
      ]
     },
     "metadata": {},
     "output_type": "display_data"
    },
    {
     "name": "stdout",
     "output_type": "stream",
     "text": [
      "0.9804912386555045\n"
     ]
    }
   ],
   "source": [
    "lb=[1,0.1,0.1,0,0.1,1,2,0]\n",
    "ub=[10,0.9,0.9,0.49,1,50,50,10]\n",
    "dictionary=differential_evolution_real_encoding(decision_tree,100,lb,ub,\"max\")\n",
    "best_var=dictionary.popitem()\n",
    "#acc=modeling([15,0.5,0.5,0.25,0.5,42,5,2.5])\n",
    "#print(acc)\n",
    "evals=[]\n",
    "\n",
    "for val in list(dictionary.values()):\n",
    "  evals.append(decision_tree(val))\n",
    "\n",
    "convergence_graph(evals,\"Decision tree\")\n",
    "print(decision_tree(best_var[1]))"
   ]
  },
  {
   "cell_type": "code",
   "execution_count": 43,
   "metadata": {},
   "outputs": [
    {
     "data": {
      "image/png": "[encoded data removed]",
      "text/plain": [
       "<Figure size 640x480 with 1 Axes>"
      ]
     },
     "metadata": {},
     "output_type": "display_data"
    },
    {
     "name": "stdout",
     "output_type": "stream",
     "text": [
      "0.972471528772909\n"
     ]
    }
   ],
   "source": [
    "lb=[1,0.1,0.1,0,0.1,1,2,0]\n",
    "ub=[10,0.9,0.9,0.49,1,50,50,10]\n",
    "dictionary=differential_evolution_real_encoding(decision_tree,100,lb,ub,\"max\")\n",
    "best_var=dictionary.popitem()\n",
    "#acc=modeling([15,0.5,0.5,0.25,0.5,42,5,2.5])\n",
    "#print(acc)\n",
    "evals=[]\n",
    "\n",
    "for val in list(dictionary.values()):\n",
    "  evals.append(decision_tree(val))\n",
    "\n",
    "convergence_graph(evals,\"Decision tree\")\n",
    "print(decision_tree(best_var[1]))"
   ]
  }
 ],
 "metadata": {
  "colab": {
   "provenance": []
  },
  "kernelspec": {
   "display_name": "Python 3",
   "language": "python",
   "name": "python3"
  },
  "language_info": {
   "codemirror_mode": {
    "name": "ipython",
    "version": 3
   },
   "file_extension": ".py",
   "mimetype": "text/x-python",
   "name": "python",
   "nbconvert_exporter": "python",
   "pygments_lexer": "ipython3",
   "version": "3.11.8"
  },
  "vscode": {
   "interpreter": {
    "hash": "d99a3f7b344b3c3107482760db15f42178bfad658d282ab0a919b76809e13cb5"
   }
  }
 },
 "nbformat": 4,
 "nbformat_minor": 0
}
